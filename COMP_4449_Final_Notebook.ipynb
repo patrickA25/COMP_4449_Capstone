{
 "cells": [
  {
   "cell_type": "markdown",
   "metadata": {},
   "source": [
    "<h1><center> Final Notebook </center?</h1>\n",
    "<h1><center> Winter 2023 COMP 4449 </center?</h1>\n",
    "<h1><center> By: Patrick Ayers </center?</h1>\n",
    "\n",
    "<h2><center>Loading Packages and Making Functions</center></h2>\n"
   ]
  },
  {
   "cell_type": "code",
   "execution_count": 239,
   "metadata": {},
   "outputs": [],
   "source": [
    "# loading in needed packages\n",
    "import pandas as pd\n",
    "import numpy as np\n",
    "import textstat\n",
    "from collections import Counter\n",
    "import openai\n",
    "import os\n",
    "import re\n",
    "from dotenv import load_dotenv\n",
    "import itertools\n",
    "import time\n",
    "import json\n",
    "import statistics\n",
    "from difflib import SequenceMatcher\n",
    "from matplotlib.pyplot import figure\n",
    "import seaborn\n",
    "import matplotlib\n",
    "import matplotlib as mpl\n",
    "import matplotlib.pyplot as plt\n",
    "import nltk\n",
    "from sqlalchemy import create_engine\n",
    "import datetime\n",
    "# Turn off warning so not clutter up code\n",
    "# the warning that is turned off is for appending data from a pandas df\n",
    "pd.set_option('mode.chained_assignment', None)"
   ]
  },
  {
   "cell_type": "code",
   "execution_count": 34,
   "metadata": {},
   "outputs": [],
   "source": [
    "# Building functions used for plotting data\n",
    "# this function was found on matplotlib website:\n",
    "# https://matplotlib.org/stable/gallery/images_contours_and_fields/image_annotated_heatmap.html\n",
    "def heatmap(data, row_labels, col_labels, ax=None,\n",
    "            cbar_kw=None, cbarlabel=\"\", **kwargs):\n",
    "    \"\"\"\n",
    "    Create a heatmap from a numpy array and two lists of labels.\n",
    "\n",
    "    Parameters\n",
    "    ----------\n",
    "    data\n",
    "        A 2D numpy array of shape (M, N).\n",
    "    row_labels\n",
    "        A list or array of length M with the labels for the rows.\n",
    "    col_labels\n",
    "        A list or array of length N with the labels for the columns.\n",
    "    ax\n",
    "        A `matplotlib.axes.Axes` instance to which the heatmap is plotted.  If\n",
    "        not provided, use current axes or create a new one.  Optional.\n",
    "    cbar_kw\n",
    "        A dictionary with arguments to `matplotlib.Figure.colorbar`.  Optional.\n",
    "    cbarlabel\n",
    "        The label for the colorbar.  Optional.\n",
    "    **kwargs\n",
    "        All other arguments are forwarded to `imshow`.\n",
    "    \"\"\"\n",
    "\n",
    "    if ax is None:\n",
    "        ax = plt.gca()\n",
    "\n",
    "    if cbar_kw is None:\n",
    "        cbar_kw = {}\n",
    "\n",
    "    # Plot the heatmap\n",
    "    im = ax.imshow(data, **kwargs)\n",
    "\n",
    "    # Create colorbar\n",
    "    cbar = ax.figure.colorbar(im, ax=ax, **cbar_kw)\n",
    "    cbar.ax.set_ylabel(cbarlabel, rotation=-90, va=\"bottom\")\n",
    "\n",
    "    # Show all ticks and label them with the respective list entries.\n",
    "    ax.set_xticks(np.arange(data.shape[1]), labels=col_labels)\n",
    "    ax.set_yticks(np.arange(data.shape[0]), labels=row_labels)\n",
    "\n",
    "    # Let the horizontal axes labeling appear on top.\n",
    "    ax.tick_params(top=True, bottom=False,\n",
    "                   labeltop=True, labelbottom=False)\n",
    "\n",
    "    # Rotate the tick labels and set their alignment.\n",
    "    plt.setp(ax.get_xticklabels(), rotation=-30, ha=\"right\",\n",
    "             rotation_mode=\"anchor\")\n",
    "\n",
    "    # Turn spines off and create white grid.\n",
    "    ax.spines[:].set_visible(False)\n",
    "\n",
    "    ax.set_xticks(np.arange(data.shape[1]+1)-.5, minor=True)\n",
    "    ax.set_yticks(np.arange(data.shape[0]+1)-.5, minor=True)\n",
    "    ax.grid(which=\"minor\", color=\"w\", linestyle='-', linewidth=3)\n",
    "    ax.tick_params(which=\"minor\", bottom=False, left=False)\n",
    "\n",
    "    return im, cbar\n",
    "\n",
    "def annotate_heatmap(im, data=None, valfmt=\"{x:.2f}\",\n",
    "                     textcolors=(\"black\", \"white\"),\n",
    "                     threshold=None, **textkw):\n",
    "    \"\"\"\n",
    "    A function to annotate a heatmap.\n",
    "\n",
    "    Parameters\n",
    "    ----------\n",
    "    im\n",
    "        The AxesImage to be labeled.\n",
    "    data\n",
    "        Data used to annotate.  If None, the image's data is used.  Optional.\n",
    "    valfmt\n",
    "        The format of the annotations inside the heatmap.  This should either\n",
    "        use the string format method, e.g. \"$ {x:.2f}\", or be a\n",
    "        `matplotlib.ticker.Formatter`.  Optional.\n",
    "    textcolors\n",
    "        A pair of colors.  The first is used for values below a threshold,\n",
    "        the second for those above.  Optional.\n",
    "    threshold\n",
    "        Value in data units according to which the colors from textcolors are\n",
    "        applied.  If None (the default) uses the middle of the colormap as\n",
    "        separation.  Optional.\n",
    "    **kwargs\n",
    "        All other arguments are forwarded to each call to `text` used to create\n",
    "        the text labels.\n",
    "    \"\"\"\n",
    "\n",
    "    if not isinstance(data, (list, np.ndarray)):\n",
    "        data = im.get_array()\n",
    "\n",
    "    # Normalize the threshold to the images color range.\n",
    "    if threshold is not None:\n",
    "        threshold = im.norm(threshold)\n",
    "    else:\n",
    "        threshold = im.norm(data.max())/2.\n",
    "\n",
    "    # Set default alignment to center, but allow it to be\n",
    "    # overwritten by textkw.\n",
    "    kw = dict(horizontalalignment=\"center\",\n",
    "              verticalalignment=\"center\")\n",
    "    kw.update(textkw)\n",
    "\n",
    "    # Get the formatter in case a string is supplied\n",
    "    if isinstance(valfmt, str):\n",
    "        valfmt = matplotlib.ticker.StrMethodFormatter(valfmt)\n",
    "\n",
    "    # Loop over the data and create a `Text` for each \"pixel\".\n",
    "    # Change the text's color depending on the data.\n",
    "    texts = []\n",
    "    for i in range(data.shape[0]):\n",
    "        for j in range(data.shape[1]):\n",
    "            kw.update(color=textcolors[int(im.norm(data[i, j]) > threshold)])\n",
    "            text = im.axes.text(j, i, valfmt(data[i, j], None), **kw)\n",
    "            texts.append(text)\n",
    "\n",
    "    return texts"
   ]
  },
  {
   "cell_type": "markdown",
   "metadata": {},
   "source": [
    "<h2><center> Getting information from .env file and setting globe variable </center></h2>"
   ]
  },
  {
   "cell_type": "code",
   "execution_count": 205,
   "metadata": {},
   "outputs": [],
   "source": [
    "# Loading in Information from .env file\n",
    "load_dotenv()\n",
    "# Database connection information\n",
    "USER = os.getenv(\"User\")\n",
    "PASSWORD = os.getenv(\"PASSWORD\")\n",
    "HOST = os.getenv(\"HOST\")\n",
    "PORT = os.getenv(\"PORT\")\n",
    "DATABASE = os.getenv(\"DATABASE\")\n",
    "\n",
    "# Getting API key from .env file\n",
    "API_KEY = os.getenv(\"OPENAI_KEY\")\n",
    "BASESTRING = \"Rewrite this description but with a tone of great quality and fashionable.\"\n"
   ]
  },
  {
   "cell_type": "markdown",
   "metadata": {},
   "source": [
    "<h2><center> Connecting to Database </h2></center>"
   ]
  },
  {
   "cell_type": "code",
   "execution_count": 206,
   "metadata": {},
   "outputs": [],
   "source": [
    "# This datapull will grab any product data that does not have a new product discription.\n",
    "DATAPULL = \"\"\"SELECT ProdID,\n",
    "                Vendor,\n",
    "                Type,\n",
    "                color,\n",
    "                CONCAT(type,' in ',color,' from ',vendor')\n",
    "                FROM taylorstich.productdata\n",
    "                 WHERE ProdID NOT IN (SELECT DISTINCT ProdID FROM newproductdiscription;\"\"\"\n",
    "DBEngine = create_engine(f'mysql+mysqlconnector://{USER}:{PASSWORD}@{HOST}:{PORT}/{DATABASE}')\n",
    "DBConnection = DBEngine.connect()\n",
    "newProduct = DBConnection.execute(DATAPULL)\n",
    "newProductDF = pd.DataFrame(newProduct.fetchall())"
   ]
  },
  {
   "cell_type": "markdown",
   "metadata": {},
   "source": [
    "<h3><center> Building the Product description draft </center></h3>"
   ]
  },
  {
   "cell_type": "code",
   "execution_count": 182,
   "metadata": {},
   "outputs": [
    {
     "name": "stdout",
     "output_type": "stream",
     "text": [
      "0.1_2048_1_1\n",
      "0.5_2048_1_1\n"
     ]
    }
   ],
   "source": [
    "# Because the database that this program use is on my personal computer I have added some temp data\n",
    "# that will let the program run.\n",
    "newProductDF = pd.DataFrame({'ProdID':[1],'Vendor':['Tyalor Stitch'],'Type':['Camp Sock'],'Color':['soil Marl'],'clean_body_text':['The Camp Sock in Soil Marl from Taylor Stitch']})\n",
    "# Building out parameters\n",
    "modelPeram = [ [.1,.5],\n",
    "               # max_Tokens\n",
    "               [2048],\n",
    "               # feq_pen\n",
    "               [1],\n",
    "               # pres_pen\n",
    "               [1]]\n",
    "modelPeramList = (list(itertools.product(*modelPeram)))\n",
    "# adding extra Columns to Dataframe\n",
    "newColList = []\n",
    "# Building out the column names with the format of Temp_maxTokens_feqPen_presPen\n",
    "for apiPerm in range(0,len(modelPeramList)):\n",
    "    newColList.append((f\"{modelPeramList[apiPerm][0]}_{modelPeramList[apiPerm][1]}_\" \\\n",
    "   f\"{modelPeramList[apiPerm][2]}_{modelPeramList[apiPerm][3]}\"))\n",
    "\n",
    "# Adding blank columns to dataset\n",
    "for col in newColList:\n",
    "    print(col)\n",
    "    newProductDF[str(col)]= \"\"\n",
    "#newProductDF=pd.melt(newProductDF,id_vars= ['ProdID','Vendor','Type','Color','clean_body_text'] ,value_vars=newColList,var_name='model_info')\n",
    "# Making a dictionary for information from the API call\n",
    "output_dic_1 = {}\n"
   ]
  },
  {
   "cell_type": "code",
   "execution_count": 184,
   "metadata": {},
   "outputs": [
    {
     "name": "stdout",
     "output_type": "stream",
     "text": [
      "Executing API call iteration 0.\n",
      "Calling API on product number 0.\n",
      "Executing API call iteration 1.\n",
      "Calling API on product number 0.\n"
     ]
    }
   ],
   "source": [
    "#Connection to open AI\n",
    "openai.api_key = API_KEY\n",
    "# Running the API calls for each product and model setting\n",
    "for apiPerm in range(0, len(newColList)):\n",
    "    # Breaking apart the column name to get the peaces for each api call\n",
    "    tempPeram = newColList[apiPerm].split(\"_\")\n",
    "    print(f\"Executing API call iteration {apiPerm}.\")\n",
    "    for prod in range(0, len(newProductDF.index)):\n",
    "        print(f\"Calling API on product number {prod}.\")\n",
    "        api_call_string = \"{}{}\".format(BASESTRING, newProductDF.loc[prod, 'clean_body_text'])\n",
    "        response = openai.Completion.create(\n",
    "            model=\"text-davinci-003\",\n",
    "            prompt=api_call_string,\n",
    "            temperature=float(tempPeram[0]),\n",
    "            max_tokens=int(tempPeram[1]),\n",
    "            top_p=.80,\n",
    "            frequency_penalty=int(tempPeram[2]),\n",
    "            presence_penalty=int(tempPeram[3]),\n",
    "            stop=[\"\\\"\\\"\\\"\"]\n",
    "        )\n",
    "        # adding the key for the last API call\n",
    "        outputDicName = str(newColList[apiPerm]+\"_\"+str(newProductDF['ProdID'][prod]))\n",
    "        # adding the information to output dictionary from the last API call\n",
    "        output_dic_1[outputDicName] = response\n",
    "        # adding the product description to a dataframe\n",
    "        newProductDF.loc[prod, newColList[apiPerm]] = str(response['choices'][0]['text'])\n",
    "        #print(response['choices'][0]['text'])\n",
    "        # To not get an error message from calling the API to much\n",
    "        time.sleep(2)"
   ]
  },
  {
   "cell_type": "markdown",
   "metadata": {},
   "source": [
    "<h3><center> Saving Data files </center><h3>"
   ]
  },
  {
   "cell_type": "code",
   "execution_count": null,
   "metadata": {},
   "outputs": [],
   "source": [
    "# Building a directory for output file\n",
    "newDir = 'productOutput'\n",
    "parentDir = 'C:/Users/patri/OneDrive/Grad_School/COMP_4449_Capstone/ChatGPT_Project_V2'\n",
    "timeStamp = datetime.datetime.now().strftime(\"%Y-%m-%d-%H:%M\")\n",
    "path = os.path.join(parentDir,newDir)\n",
    "os.makedirs(path)\n",
    "# Saving results of API calls to disk\n",
    "newProductDF.to_csv(f'newProductDescription_{timeStamp}.csv')\n",
    "with open(f'ProductDescriptionAPIMetaData_{timeStamp}.tet','w') as file:\n",
    "    file.write(json.dumps(output_dic_1))"
   ]
  },
  {
   "cell_type": "markdown",
   "metadata": {},
   "source": [
    "<h2><center> Running Sentiment and Comparison </center></h2>"
   ]
  },
  {
   "cell_type": "code",
   "execution_count": 186,
   "metadata": {},
   "outputs": [
    {
     "data": {
      "image/png": "[encoded data removed]",
      "text/plain": [
       "<Figure size 850x1100 with 2 Axes>"
      ]
     },
     "metadata": {},
     "output_type": "display_data"
    }
   ],
   "source": [
    "# checking if there is more model that needs to be tested\n",
    "if len(modelPeramList) > 1:\n",
    "# Building output dataframe\n",
    "    SequenceMatchDF = pd.DataFrame(np.nan,index = newColList , columns = newColList)\n",
    "# Iterating for each column and each row\n",
    "    for col in range(0,len(newColList)):\n",
    "        #print(f'Working on col number {col}')\n",
    "        for row in range(0,len(newColList)):\n",
    "            #print(f' Working on row number {row}')\n",
    "            similarityList = []\n",
    "            # Getting a senences for each model and comparing too\n",
    "            for i in range(0,len(newProductDF.index)):\n",
    "                stringA = newProductDF.loc[i,newColList[col]]\n",
    "                #print(i)\n",
    "                stringB = newProductDF.loc[i,newColList[row]]\n",
    "                similarityList.append(SequenceMatcher(None,stringA,stringB).ratio())\n",
    "            # averaging the difference.\n",
    "            similarityMean = statistics.mean(similarityList)\n",
    "            if row == col:\n",
    "                SequenceMatchDF.iloc[row,col] = statistics.mean(similarityList)\n",
    "            else:\n",
    "                SequenceMatchDF.iloc[row,col] = statistics.mean(similarityList)\n",
    "                SequenceMatchDF.iloc[col,row] = statistics.mean(similarityList)\n",
    "    fig, ax = plt.subplots()\n",
    "    im, cbar = heatmap(SequenceMatchDF, newColList, newColList, ax=ax, cmap=\"PuBu\", cbarlabel=\"Sequence Matcher\")\n",
    "    texts = annotate_heatmap(im, valfmt=\"{x:.1f}\")\n",
    "    fig.set_size_inches(8.5, 11)\n",
    "    fig.tight_layout()\n",
    "    plt.show()\n"
   ]
  },
  {
   "cell_type": "code",
   "execution_count": 187,
   "metadata": {},
   "outputs": [
    {
     "data": {
      "image/png": "[encoded data removed]",
      "text/plain": [
       "<Figure size 1850x1050 with 2 Axes>"
      ]
     },
     "metadata": {},
     "output_type": "display_data"
    }
   ],
   "source": [
    "from nltk.sentiment import SentimentIntensityAnalyzer\n",
    "# Running Sentiment Analysis\n",
    "\n",
    "if len(modelPeramList)> 1:\n",
    "    polarityScoresDF = pd.DataFrame(np.nan,index = ['neg','neu','pos','compound'] , columns = newColList)\n",
    "    sia = SentimentIntensityAnalyzer()\n",
    "    sia.polarity_scores(str(newProductDF.loc[:,newColList]))\n",
    "    for i in range(0,len(newColList)):\n",
    "        temp_dic = sia.polarity_scores(str(newProductDF.loc[:,newColList[i]]))\n",
    "        polarityScoresDF.loc['neg',newColList[i]] = temp_dic['neg']\n",
    "        polarityScoresDF.loc['neu',newColList[i]] = temp_dic['neu']\n",
    "        polarityScoresDF.loc['pos',newColList[i]] = temp_dic['pos']\n",
    "        polarityScoresDF.loc['compound',newColList[i]] = temp_dic['compound']\n",
    "\n",
    "    # Code to make a heat map for all the data made in the statement above\n",
    "    fig, ax = plt.subplots()\n",
    "    im,cbar = heatmap(polarityScoresDF,['neg','neu','pos','compound'],newColList,ax=ax, cmap=\"PuBu\", cbarlabel=\"Sequence Matcher\")\n",
    "    texts = annotate_heatmap(im, valfmt=\"{x:.1f}\")\n",
    "    fig.set_size_inches(18.5, 10.5)\n",
    "    fig.tight_layout()\n",
    "    plt.show()"
   ]
  },
  {
   "cell_type": "markdown",
   "metadata": {},
   "source": [
    "<h2><center> Running Grammar Fix </center></h2>"
   ]
  },
  {
   "cell_type": "code",
   "execution_count": 189,
   "metadata": {},
   "outputs": [],
   "source": [
    "# First we need to convert the DF from a wide format to long format\n",
    "newProductDF = pd.melt(newProductDF,id_vars= ['ProdID','Vendor','Type','Color','clean_body_text'] ,value_vars=newColList,var_name='model_info',value_name='Draft_text')"
   ]
  },
  {
   "cell_type": "code",
   "execution_count": 240,
   "metadata": {},
   "outputs": [],
   "source": [
    "\n",
    "dataKeys = list(output_dic_1.keys())\n",
    "# add new columns to output dataframe\n",
    "ColList = ['product_name','id', 'object', 'created', 'model', 'choices=>text', 'choices=>index'\n",
    "    , 'choices=>logprobs', 'choices=>finish_reason', 'usage=>prompt_Tokens'\n",
    "    , 'usage=>completion_tokens', 'usage=>total_tokens']\n",
    "for ii in ColList:\n",
    "    newProductDF[str(ii)]=\"\"\n",
    "# Adding all of the meta data that was gathered from the first API call\n",
    "for ii in range(0,len(dataKeys)):\n",
    "    newProductDF['product_name'][ii] = dataKeys[ii]\n",
    "    newProductDF['id'][ii] = output_dic_1[dataKeys[ii]]['id']\n",
    "    newProductDF['object'][ii] = output_dic_1[dataKeys[ii]]['object']\n",
    "    newProductDF['created'][ii] = output_dic_1[dataKeys[ii]]['created']\n",
    "    newProductDF['model'][ii] = output_dic_1[dataKeys[ii]]['model']\n",
    "    newProductDF['choices=>text'][ii] = output_dic_1[dataKeys[ii]]['choices'][0]['text']\n",
    "    newProductDF['choices=>index'][ii] = output_dic_1[dataKeys[ii]]['choices'][0]['index']\n",
    "    newProductDF['choices=>logprobs'][ii] = output_dic_1[dataKeys[ii]]['choices'][0]['logprobs']\n",
    "    newProductDF['choices=>finish_reason'][ii] = output_dic_1[dataKeys[ii]]['choices'][0]['finish_reason']\n",
    "    newProductDF['usage=>prompt_Tokens'][ii] =output_dic_1[dataKeys[ii]]['usage']['prompt_tokens']\n",
    "    newProductDF['usage=>completion_tokens'][ii] = output_dic_1[dataKeys[ii]]['usage']['completion_tokens']\n",
    "    newProductDF['usage=>total_tokens'][ii] = output_dic_1[dataKeys[ii]]['usage']['total_tokens']"
   ]
  },
  {
   "cell_type": "code",
   "execution_count": 241,
   "metadata": {},
   "outputs": [],
   "source": [
    "# Adding new columns to newProductDF that will be used after the grammar fixes\n",
    "newProductDF['grammarObject'] = \"\"\n",
    "newProductDF['grammartcreated']= \"\"\n",
    "newProductDF['grammartFixedText'] = \"\"\n",
    "newProductDF['grammarPromptTokens'] = \"\"\n",
    "newProductDF['grammarcompletionTokens'] = \"\"\n",
    "newProductDF['grammarTotalTokens'] = \"\"\n",
    "newProductDF['flesch_reading_ease'] = \"\"\n",
    "newProductDF['flesch_kincaid_grade'] = \"\"\n",
    "newProductDF['Product_Discription_Value'] = \"\"\n",
    "\n",
    "# Running the Grammar fixing process\n",
    "for ii in newProductDF.index:\n",
    "    # Calling openAI API to fix grammar\n",
    "    tempOutPut = openai.Edit.create(\n",
    "        model='text-davinci-edit-001',\n",
    "        input= newProductDF['choices=>text'][ii],\n",
    "        instruction='Fix grammar',\n",
    "        n=1)\n",
    "    # adding grammar metadata to the DF\n",
    "    newProductDF['grammarObject'][ii] = tempOutPut['object']\n",
    "    newProductDF['grammartcreated'][ii] = tempOutPut['created']\n",
    "    newProductDF['grammartFixedText'][ii]  = tempOutPut['choices'][0]['text']\n",
    "    newProductDF['grammarPromptTokens'][ii]  = tempOutPut['usage']['prompt_tokens']\n",
    "    newProductDF['grammarcompletionTokens'][ii]  = tempOutPut['usage']['completion_tokens']\n",
    "    newProductDF['grammarTotalTokens'][ii]  = tempOutPut['usage']['total_tokens']\n",
    "\n",
    "    # Running the flesch_reading and flesch kincaid testr\n",
    "    textstat.set_lang('en_US')\n",
    "    newProductDF['flesch_reading_ease'][ii]  = textstat.flesch_reading_ease(newProductDF['grammartFixedText'][0])\n",
    "    newProductDF['flesch_kincaid_grade'][ii]  = textstat.flesch_kincaid_grade(newProductDF['grammartFixedText'][0])\n",
    "    # removing punquations from tokens to avoid over counting\n",
    "    sampleText = newProductDF['grammartFixedText'][ii]\n",
    "    res = re.sub(r'[^\\w\\s]','',sampleText)\n",
    "    sampleTextLower = res.lower()\n",
    "    tokens = nltk.word_tokenize(sampleTextLower)\n",
    "    tags = nltk.pos_tag(tokens)\n",
    "    counts = Counter(tag for word , tag in tags)\n",
    "\n",
    "    # List of the type words that will be counted.\n",
    "    wordTags = ['CC','CD','DT','EX','FW',\n",
    "            'IN','JJ','JJR','JJS','LS',\n",
    "            'MD','NN','NNS','NNP','NNPS',\n",
    "            'PDT','POS','PRP','PRP$','RB',\n",
    "            'RBR','RBS','RP','TO','UH',\n",
    "            'VB','VBG','VBD','VBN','VBP',\n",
    "            'VBZ','WDT','WP','WRB']\n",
    "    adjTags = ['JJ','JJR','JJS']\n",
    "    UDAList = ['Vendor','Type','Color']\n",
    "\n",
    "    totalWordCount = 0\n",
    "    for xx in wordTags:\n",
    "        totalWordCount += counts[xx]\n",
    "\n",
    "    # List of adjustive\n",
    "    totalAdjWordCount = 0\n",
    "    for xx in adjTags:\n",
    "        totalAdjWordCount += counts[xx]\n",
    "    #print(totalAdjWordCount)\n",
    "\n",
    "    udaUseCount = 0\n",
    "    for xx in UDAList:\n",
    "        udaUseCount += sampleTextLower.count(newProductDF[xx][0].lower())\n",
    "\n",
    "    newProductDF['Product_Discription_Value'][ii] = (len(set(tokens))/totalWordCount)*(udaUseCount/len(UDAList))*(totalAdjWordCount/totalAdjWordCount)"
   ]
  },
  {
   "cell_type": "markdown",
   "metadata": {},
   "source": [
    "<h2><center> Loading data into Database </c></h2>"
   ]
  },
  {
   "cell_type": "code",
   "execution_count": 237,
   "metadata": {},
   "outputs": [],
   "source": [
    "# building insert section of the query for the data that will be loaded into staging tables\n",
    "for row in newProductDF.index:\n",
    "    insert_stmt = (\"\"\"InSERT INTO comp_4449_final.stagenewproductdiscription\n",
    "        VALUES (%s,%s,%s,%s,%s,%s,%s,%s,%s,%s,%s,%s,%s,%s,%s,%s,%s,%s,%s, %s,%s,%s,%s,%s,%s)\"\"\")\n",
    "\n",
    "    # building data to be loaded\n",
    "    data = (str(newProductDF['ProdID'][row]),\n",
    "            str(newProductDF['productdiscriptionid'][row]),\n",
    "            str(newProductDF['clean_body_text'][row]),\n",
    "        str(newProductDF['model_info'][row]),\n",
    "        str(newProductDF['Draft_text'][row]),\n",
    "        str(newProductDF['id'][row]),\n",
    "        str(newProductDF['object'][row]),\n",
    "        str(newProductDF['created'][row]),\n",
    "        str(newProductDF['model'][row]),\n",
    "        str(newProductDF['choices=>text'][row]),\n",
    "        str(newProductDF['choices=>index'][row]),\n",
    "        str(0),\n",
    "        str(newProductDF['choices=>finish_reason'][row]),\n",
    "        str(newProductDF['usage=>prompt_Tokens'][row]),\n",
    "        str(newProductDF['usage=>completion_tokens'][row]),\n",
    "        str(newProductDF['usage=>total_tokens'][row]),\n",
    "        str(newProductDF['grammarObject'][row]),\n",
    "        str(newProductDF['grammartcreated'][row]),\n",
    "        str(newProductDF['grammartFixedText'][row]),\n",
    "        str(newProductDF['grammarPromptTokens'][row]),\n",
    "        str(newProductDF['grammarcompletionTokens'][row]),\n",
    "        str(newProductDF['grammarTotalTokens'][row]),\n",
    "        str(newProductDF['flesch_reading_ease'][row]),\n",
    "        str(newProductDF['flesch_kincaid_grade'][row]),\n",
    "        str(newProductDF['Product_Discription_Value'][row]))\n",
    "    tempid = DBEngine.execute(insert_stmt,data)\n",
    "    tempid.lastrowid"
   ]
  },
  {
   "cell_type": "markdown",
   "metadata": {},
   "source": [
    "<h2><center> Updating tables in the database </c></h2>"
   ]
  },
  {
   "cell_type": "code",
   "execution_count": 238,
   "metadata": {},
   "outputs": [
    {
     "data": {
      "text/plain": [
       "0"
      ]
     },
     "execution_count": 238,
     "metadata": {},
     "output_type": "execute_result"
    }
   ],
   "source": [
    "\n",
    "# after data is loaded the following SQL command will be ran to move the data into the new table\n",
    "updateTableSQL = \"\"\"INSERT INTO comp_4449_final.newproductdiscription\n",
    "SELECT tb1.prodID,\n",
    "(SELECT max(ProductDiscritonID) FROM comp_4449_final.newproductdiscription)+1,\n",
    "tb1.Clean_body_text,\n",
    "\ttb1.model_info\t,\n",
    "    tb1.draft_text\t,\n",
    "    tb1.model_id\t,\n",
    "    tb1.model_object,\n",
    "    tb1.model_created,\n",
    "    tb1.model_type\t,\n",
    "    tb1.choices_text,\n",
    "    tb1.choices_index,\n",
    "    tb1.choices_logprobs,\n",
    "    tb1.choices_finish_reason,\n",
    "    tb1.usage_prompt_tokens\t,\n",
    "    tb1.usage_completion_tokens,\n",
    "    tb1.usage_total_tokens\t,\n",
    "    tb1.grammar_Object\t,\n",
    "    tb1.crammar_created\t,\n",
    "    tb1.grammat_fixed_text,\n",
    "    tb1.grammar_prompt_tokens,\n",
    "    tb1.grammar_completion_tokens,\n",
    "    tb1.grammar_total_tokens\t,\n",
    "    tb1.flesch_reading_ease\t,\n",
    "    tb1.flesch_kincaid_grade,\n",
    "    tb1.product_discription_value\n",
    "FROM comp_4449_final.stagenewproductdiscription as tb1\n",
    "INNER JOIN (SELECT *,\n",
    "\t\t\tDENSE_RANK() OVER (PARTITION BY\n",
    "\t\t\t\t\t\t\t\t prodID\n",
    "\t\t\t\t\t\t\t\tORDER BY\n",
    "\t\t\t\t\t\t\t\t score_avg DESC\n",
    "\t\t\t\t\t\t\t) score_rank\n",
    "\t\t\t\tFROM ( SELECT PRODID,\n",
    "\t\t\t\t\t\tProductDiscritonID,\n",
    "\t\t\t\t\t\tavg(flesch_reading_ease+flesch_kincaid_grade+product_discription_Value) score_avg\n",
    "\t\t\t\t\t\tfROM comp_4449_final.stagenewproductdiscription\n",
    "\t\t\t\t\t\tGROUP BY PRODID,ProductDiscritonID)as tbnone) as tb2\n",
    "\tON tb1.prodID = tb2.prodID\n",
    "    and tb1.ProductDiscritonID = tb2.ProductDiscritonID\n",
    "WHERE tb2.score_rank = 1;\"\"\"\n",
    "\n",
    "tempid = DBEngine.execute(updateTableSQL)\n",
    "tempid.lastrowid"
   ]
  }
 ],
 "metadata": {
  "kernelspec": {
   "display_name": "Python 3 (ipykernel)",
   "language": "python",
   "name": "python3"
  },
  "language_info": {
   "codemirror_mode": {
    "name": "ipython",
    "version": 3
   },
   "file_extension": ".py",
   "mimetype": "text/x-python",
   "name": "python",
   "nbconvert_exporter": "python",
   "pygments_lexer": "ipython3",
   "version": "3.9.12"
  }
 },
 "nbformat": 4,
 "nbformat_minor": 1
}
